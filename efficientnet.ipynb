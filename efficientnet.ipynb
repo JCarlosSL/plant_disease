{
  "cells": [
    {
      "cell_type": "code",
      "source": [
        "from google.colab import drive\n",
        "drive.mount('/content/drive')"
      ],
      "metadata": {
        "colab": {
          "base_uri": "https://localhost:8080/"
        },
        "id": "yP11BTiNGs30",
        "outputId": "857a65eb-ae47-4351-b11c-59973aabcc05"
      },
      "execution_count": null,
      "outputs": [
        {
          "output_type": "stream",
          "name": "stdout",
          "text": [
            "Mounted at /content/drive\n"
          ]
        }
      ]
    },
    {
      "cell_type": "code",
      "source": [
        "%cd /content/drive/MyDrive/proyectos3/\n",
        "!ls"
      ],
      "metadata": {
        "colab": {
          "base_uri": "https://localhost:8080/"
        },
        "id": "hyUKvQmWHKwL",
        "outputId": "2d15882a-6e42-4a33-c3b7-3aeb0ba2de41"
      },
      "execution_count": null,
      "outputs": [
        {
          "output_type": "stream",
          "name": "stdout",
          "text": [
            "/content/drive/MyDrive/proyectos3\n",
            "alexNet.ipynb  efficientNet.ipynb  fusion_plant     models    PlantVillage_bgremoved  wandb\n",
            "cnn.ipynb      evaluation\t   GoogleNet.ipynb  PlantDoc  resNet.ipynb\n"
          ]
        }
      ]
    },
    {
      "cell_type": "code",
      "source": [
        "from torchvision import transforms\n",
        "from torchvision.datasets import ImageFolder\n",
        "from torch.utils.data import ConcatDataset\n",
        "\n",
        "\n",
        "train_dir0 = './fusion_plant/train'\n",
        "\n",
        "val_dir0 = './fusion_plant/valid'\n",
        "\n",
        "transform = transforms.Compose([\n",
        "    transforms.Resize((224, 224)),\n",
        "    transforms.ToTensor(),\n",
        "    transforms.Normalize(mean=[0.485, 0.456, 0.406], std=[0.229, 0.224, 0.225])\n",
        "])\n",
        "\n",
        "train_dataset = ImageFolder(train_dir0, transform=transform,  is_valid_file=lambda x: x.endswith('.JPG') or x.endswith('.jpg'))\n",
        "val_dataset = ImageFolder(val_dir0, transform=transform, is_valid_file=lambda x: x.endswith('.JPG') or x.endswith('.jpg'))\n",
        "\n",
        "classes = train_dataset.classes\n",
        "classes_val = val_dataset.classes\n",
        "classes, classes_val"
      ],
      "metadata": {
        "id": "o2PjUn8wbFMF",
        "colab": {
          "base_uri": "https://localhost:8080/"
        },
        "outputId": "44a2b0c5-5a88-4f26-865a-15e3c91100ba"
      },
      "execution_count": null,
      "outputs": [
        {
          "output_type": "execute_result",
          "data": {
            "text/plain": [
              "(['Potato___Early_blight', 'Potato___Late_blight', 'Potato___healthy'],\n",
              " ['Potato___Early_blight', 'Potato___Late_blight', 'Potato___healthy'])"
            ]
          },
          "metadata": {},
          "execution_count": 7
        }
      ]
    },
    {
      "cell_type": "code",
      "source": [
        "image_count = {}\n",
        "for cls in classes:\n",
        "  image_count[cls] = len(list(filter(lambda x: x[1] == classes.index(cls), train_dataset.samples)))\n",
        "\n",
        "print(image_count)\n"
      ],
      "metadata": {
        "colab": {
          "base_uri": "https://localhost:8080/"
        },
        "id": "5AYjoy-_UP_8",
        "outputId": "1da73f09-cf0e-4530-d4fd-488874f57819"
      },
      "execution_count": null,
      "outputs": [
        {
          "output_type": "stream",
          "name": "stdout",
          "text": [
            "{'Potato___Early_blight': 809, 'Potato___Late_blight': 813, 'Potato___healthy': 822}\n"
          ]
        }
      ]
    },
    {
      "cell_type": "code",
      "source": [
        "from torch.utils.data import DataLoader\n",
        "\n",
        "batch_size = 32\n",
        "num_workers = 8 # Número de procesos que se utilizarán para cargar datos en paralelo\n",
        "train_loader = DataLoader(train_dataset, batch_size=batch_size, shuffle=True,pin_memory=True)\n",
        "val_loader = DataLoader(val_dataset, batch_size=batch_size, shuffle=False)"
      ],
      "metadata": {
        "id": "5rednLcxPyaL"
      },
      "execution_count": null,
      "outputs": []
    },
    {
      "cell_type": "code",
      "execution_count": null,
      "metadata": {
        "id": "Uji0vifOGCP5"
      },
      "outputs": [],
      "source": [
        "import torch\n",
        "\n",
        "def get_default_device():\n",
        "    if torch.cuda.is_available():\n",
        "        return torch.device('cuda')\n",
        "    else:\n",
        "        return torch.device('cpu')\n",
        "\n",
        "def to_device(data, device):\n",
        "    if isinstance(data, (list,tuple)):\n",
        "        return [to_device(x, device) for x in data]\n",
        "    return data.to(device, non_blocking=True)\n",
        "\n",
        "class DeviceDataLoader():\n",
        "    def __init__(self, dl, device):\n",
        "        self.dl = dl\n",
        "        self.device = device\n",
        "\n",
        "    def __iter__(self):\n",
        "        for b in self.dl:\n",
        "            yield to_device(b, self.device)\n",
        "\n",
        "    def __len__(self):\n",
        "        return len(self.dl)"
      ]
    },
    {
      "cell_type": "code",
      "source": [
        "device = get_default_device()\n",
        "\n",
        "train_loader = DeviceDataLoader(train_loader, device)\n",
        "val_loader = DeviceDataLoader(val_loader, device)"
      ],
      "metadata": {
        "id": "S6TcjHtjR0F_"
      },
      "execution_count": null,
      "outputs": []
    },
    {
      "cell_type": "code",
      "execution_count": null,
      "metadata": {
        "id": "3IN7luR2GCP7"
      },
      "outputs": [],
      "source": [
        "import torch.nn as nn\n",
        "import torch.nn.functional as F\n",
        "from sklearn.metrics import precision_score, f1_score\n",
        "\n",
        "def accuracy(outputs, labels):\n",
        "    _, preds = torch.max(outputs, dim=1)\n",
        "    return torch.tensor(torch.sum(preds == labels).item() / len(preds))\n",
        "\n",
        "\n",
        "class ImageClassificationBase(nn.Module):\n",
        "\n",
        "    def training_step(self, batch):\n",
        "        \"calculate loss for a batch of training data\"\n",
        "        images, labels = batch\n",
        "        out = self(images)                  # Generate predictions\n",
        "        # nn.CrossEntropyLoss combines nn.LogSoftmax and nn.NLLLoss\n",
        "        loss = F.cross_entropy(out, labels) # Calculate loss\n",
        "        return loss\n",
        "\n",
        "    def training_accuracy(self, batch):\n",
        "        images, labels = batch\n",
        "        out = self(images)\n",
        "        preds = torch.argmax(out, dim=1)\n",
        "        return accuracy(out, labels)\n",
        "\n",
        "    def validation_step(self, batch):\n",
        "        \"calculate loss, accuracy, precision and f1 score for a batch of validation data\"\n",
        "        images, labels = batch\n",
        "        out = self(images)                   # Generate prediction\n",
        "        # nn.CrossEntropyLoss combines nn.LogSoftmax and nn.NLLLoss\n",
        "        loss = F.cross_entropy(out, labels)  # Calculate loss\n",
        "        preds = torch.argmax(out, dim=1)\n",
        "        acc = accuracy(out, labels)          # Calculate accuracy\n",
        "\n",
        "        # calculate precision and f1 score\n",
        "        precision = precision_score(labels.cpu(), preds.cpu(), average='weighted', zero_division=1)\n",
        "        f1 = f1_score(labels.cpu(), preds.cpu(), average='macro')\n",
        "        return {'val_loss': loss.detach(), 'val_accuracy': acc, 'val_precision': precision, 'val_f1': f1}\n",
        "\n",
        "    def validation_epoch_end(self, outputs):\n",
        "        batch_losses = [x[\"val_loss\"] for x in outputs]\n",
        "        epoch_loss = torch.stack(batch_losses).mean()       # Combine loss\n",
        "        batch_accuracy = [x[\"val_accuracy\"] for x in outputs]\n",
        "        epoch_accuracy = torch.stack(batch_accuracy).mean()\n",
        "        return {\"val_loss\": epoch_loss.item(), \"val_accuracy\": epoch_accuracy.item()} # Combine accuracies\n",
        "\n",
        "    def epoch_end(self, epoch, result):\n",
        "        print(\"Epoch [{}], last_lr: {:.5f}, train_loss: {:.4f}, val_loss: {:.4f}, val_acc: {:.4f}\".format(\n",
        "            epoch, result['lrs'][-1], result['train_loss'], result['val_loss'], result['val_accuracy']))\n"
      ]
    },
    {
      "cell_type": "code",
      "execution_count": null,
      "metadata": {
        "id": "_6EjeBsQGCP8"
      },
      "outputs": [],
      "source": [
        "class EfficientNet(ImageClassificationBase):\n",
        "    def __init__(self, num_classes):\n",
        "        super().__init__()\n",
        "        self.network = torch.hub.load('rwightman/gen-efficientnet-pytorch', 'efficientnet_b0', pretrained=True)\n",
        "        self.network.classifier = nn.Linear(self.network.classifier.in_features, num_classes)\n",
        "\n",
        "    def forward(self, xb):\n",
        "        return self.network(xb)"
      ]
    },
    {
      "cell_type": "code",
      "source": [
        "!ls"
      ],
      "metadata": {
        "colab": {
          "base_uri": "https://localhost:8080/"
        },
        "id": "FCmn6j91GqhU",
        "outputId": "776f4b81-bb97-405f-8697-a5b4ad3d7043"
      },
      "execution_count": null,
      "outputs": [
        {
          "output_type": "stream",
          "name": "stdout",
          "text": [
            "alexNet.ipynb  efficientNet.ipynb  fusion_plant     models    PlantVillage_bgremoved  wandb\n",
            "cnn.ipynb      evaluation\t   GoogleNet.ipynb  PlantDoc  resNet.ipynb\n"
          ]
        }
      ]
    },
    {
      "cell_type": "code",
      "execution_count": null,
      "metadata": {
        "colab": {
          "base_uri": "https://localhost:8080/"
        },
        "id": "JKcjvEyAGCP9",
        "outputId": "671d2bd6-de4d-449d-a523-fad48d56032c"
      },
      "outputs": [
        {
          "output_type": "stream",
          "name": "stderr",
          "text": [
            "/usr/local/lib/python3.10/dist-packages/torch/hub.py:294: UserWarning: You are about to download and run code from an untrusted repository. In a future release, this won't be allowed. To add the repository to your trusted list, change the command to {calling_fn}(..., trust_repo=False) and a command prompt will appear asking for an explicit confirmation of trust, or load(..., trust_repo=True), which will assume that the prompt is to be answered with 'yes'. You can also use load(..., trust_repo='check') which will only prompt for confirmation if the repo is not already trusted. This will eventually be the default behaviour\n",
            "  warnings.warn(\n",
            "Downloading: \"https://github.com/rwightman/gen-efficientnet-pytorch/zipball/master\" to /root/.cache/torch/hub/master.zip\n",
            "Downloading: \"https://github.com/rwightman/pytorch-image-models/releases/download/v0.1-weights/efficientnet_b0_ra-3dd342df.pth\" to /root/.cache/torch/hub/checkpoints/efficientnet_b0_ra-3dd342df.pth\n"
          ]
        }
      ],
      "source": [
        "model = EfficientNet(len(classes))\n",
        "model = to_device(model, device)\n",
        "# model.load_state_dict(torch.load('./models/plant_disease_aug_efficientNet_100.pth', map_location=torch.device('cpu')))"
      ]
    },
    {
      "cell_type": "code",
      "source": [
        "from torchsummary import summary              # for getting the summary of our model\n",
        "\n",
        "# getting summary of the model\n",
        "INPUT_SHAPE = (3, 224, 224)\n",
        "print(summary(model.cuda(), (INPUT_SHAPE)))"
      ],
      "metadata": {
        "colab": {
          "base_uri": "https://localhost:8080/"
        },
        "id": "YeNhRhEnlH3k",
        "outputId": "792c3283-e683-44f5-8af0-891dd2f5bd8c"
      },
      "execution_count": null,
      "outputs": [
        {
          "output_type": "stream",
          "name": "stdout",
          "text": [
            "----------------------------------------------------------------\n",
            "        Layer (type)               Output Shape         Param #\n",
            "================================================================\n",
            "            Conv2d-1         [-1, 32, 112, 112]             864\n",
            "       BatchNorm2d-2         [-1, 32, 112, 112]              64\n",
            "              SiLU-3         [-1, 32, 112, 112]               0\n",
            "            Conv2d-4         [-1, 32, 112, 112]             288\n",
            "       BatchNorm2d-5         [-1, 32, 112, 112]              64\n",
            "              SiLU-6         [-1, 32, 112, 112]               0\n",
            "            Conv2d-7              [-1, 8, 1, 1]             264\n",
            "              SiLU-8              [-1, 8, 1, 1]               0\n",
            "            Conv2d-9             [-1, 32, 1, 1]             288\n",
            "    SqueezeExcite-10         [-1, 32, 112, 112]               0\n",
            "           Conv2d-11         [-1, 16, 112, 112]             512\n",
            "      BatchNorm2d-12         [-1, 16, 112, 112]              32\n",
            "         Identity-13         [-1, 16, 112, 112]               0\n",
            "DepthwiseSeparableConv-14         [-1, 16, 112, 112]               0\n",
            "           Conv2d-15         [-1, 96, 112, 112]           1,536\n",
            "      BatchNorm2d-16         [-1, 96, 112, 112]             192\n",
            "             SiLU-17         [-1, 96, 112, 112]               0\n",
            "           Conv2d-18           [-1, 96, 56, 56]             864\n",
            "      BatchNorm2d-19           [-1, 96, 56, 56]             192\n",
            "             SiLU-20           [-1, 96, 56, 56]               0\n",
            "           Conv2d-21              [-1, 4, 1, 1]             388\n",
            "             SiLU-22              [-1, 4, 1, 1]               0\n",
            "           Conv2d-23             [-1, 96, 1, 1]             480\n",
            "    SqueezeExcite-24           [-1, 96, 56, 56]               0\n",
            "           Conv2d-25           [-1, 24, 56, 56]           2,304\n",
            "      BatchNorm2d-26           [-1, 24, 56, 56]              48\n",
            " InvertedResidual-27           [-1, 24, 56, 56]               0\n",
            "           Conv2d-28          [-1, 144, 56, 56]           3,456\n",
            "      BatchNorm2d-29          [-1, 144, 56, 56]             288\n",
            "             SiLU-30          [-1, 144, 56, 56]               0\n",
            "           Conv2d-31          [-1, 144, 56, 56]           1,296\n",
            "      BatchNorm2d-32          [-1, 144, 56, 56]             288\n",
            "             SiLU-33          [-1, 144, 56, 56]               0\n",
            "           Conv2d-34              [-1, 6, 1, 1]             870\n",
            "             SiLU-35              [-1, 6, 1, 1]               0\n",
            "           Conv2d-36            [-1, 144, 1, 1]           1,008\n",
            "    SqueezeExcite-37          [-1, 144, 56, 56]               0\n",
            "           Conv2d-38           [-1, 24, 56, 56]           3,456\n",
            "      BatchNorm2d-39           [-1, 24, 56, 56]              48\n",
            " InvertedResidual-40           [-1, 24, 56, 56]               0\n",
            "           Conv2d-41          [-1, 144, 56, 56]           3,456\n",
            "      BatchNorm2d-42          [-1, 144, 56, 56]             288\n",
            "             SiLU-43          [-1, 144, 56, 56]               0\n",
            "           Conv2d-44          [-1, 144, 28, 28]           3,600\n",
            "      BatchNorm2d-45          [-1, 144, 28, 28]             288\n",
            "             SiLU-46          [-1, 144, 28, 28]               0\n",
            "           Conv2d-47              [-1, 6, 1, 1]             870\n",
            "             SiLU-48              [-1, 6, 1, 1]               0\n",
            "           Conv2d-49            [-1, 144, 1, 1]           1,008\n",
            "    SqueezeExcite-50          [-1, 144, 28, 28]               0\n",
            "           Conv2d-51           [-1, 40, 28, 28]           5,760\n",
            "      BatchNorm2d-52           [-1, 40, 28, 28]              80\n",
            " InvertedResidual-53           [-1, 40, 28, 28]               0\n",
            "           Conv2d-54          [-1, 240, 28, 28]           9,600\n",
            "      BatchNorm2d-55          [-1, 240, 28, 28]             480\n",
            "             SiLU-56          [-1, 240, 28, 28]               0\n",
            "           Conv2d-57          [-1, 240, 28, 28]           6,000\n",
            "      BatchNorm2d-58          [-1, 240, 28, 28]             480\n",
            "             SiLU-59          [-1, 240, 28, 28]               0\n",
            "           Conv2d-60             [-1, 10, 1, 1]           2,410\n",
            "             SiLU-61             [-1, 10, 1, 1]               0\n",
            "           Conv2d-62            [-1, 240, 1, 1]           2,640\n",
            "    SqueezeExcite-63          [-1, 240, 28, 28]               0\n",
            "           Conv2d-64           [-1, 40, 28, 28]           9,600\n",
            "      BatchNorm2d-65           [-1, 40, 28, 28]              80\n",
            " InvertedResidual-66           [-1, 40, 28, 28]               0\n",
            "           Conv2d-67          [-1, 240, 28, 28]           9,600\n",
            "      BatchNorm2d-68          [-1, 240, 28, 28]             480\n",
            "             SiLU-69          [-1, 240, 28, 28]               0\n",
            "           Conv2d-70          [-1, 240, 14, 14]           2,160\n",
            "      BatchNorm2d-71          [-1, 240, 14, 14]             480\n",
            "             SiLU-72          [-1, 240, 14, 14]               0\n",
            "           Conv2d-73             [-1, 10, 1, 1]           2,410\n",
            "             SiLU-74             [-1, 10, 1, 1]               0\n",
            "           Conv2d-75            [-1, 240, 1, 1]           2,640\n",
            "    SqueezeExcite-76          [-1, 240, 14, 14]               0\n",
            "           Conv2d-77           [-1, 80, 14, 14]          19,200\n",
            "      BatchNorm2d-78           [-1, 80, 14, 14]             160\n",
            " InvertedResidual-79           [-1, 80, 14, 14]               0\n",
            "           Conv2d-80          [-1, 480, 14, 14]          38,400\n",
            "      BatchNorm2d-81          [-1, 480, 14, 14]             960\n",
            "             SiLU-82          [-1, 480, 14, 14]               0\n",
            "           Conv2d-83          [-1, 480, 14, 14]           4,320\n",
            "      BatchNorm2d-84          [-1, 480, 14, 14]             960\n",
            "             SiLU-85          [-1, 480, 14, 14]               0\n",
            "           Conv2d-86             [-1, 20, 1, 1]           9,620\n",
            "             SiLU-87             [-1, 20, 1, 1]               0\n",
            "           Conv2d-88            [-1, 480, 1, 1]          10,080\n",
            "    SqueezeExcite-89          [-1, 480, 14, 14]               0\n",
            "           Conv2d-90           [-1, 80, 14, 14]          38,400\n",
            "      BatchNorm2d-91           [-1, 80, 14, 14]             160\n",
            " InvertedResidual-92           [-1, 80, 14, 14]               0\n",
            "           Conv2d-93          [-1, 480, 14, 14]          38,400\n",
            "      BatchNorm2d-94          [-1, 480, 14, 14]             960\n",
            "             SiLU-95          [-1, 480, 14, 14]               0\n",
            "           Conv2d-96          [-1, 480, 14, 14]           4,320\n",
            "      BatchNorm2d-97          [-1, 480, 14, 14]             960\n",
            "             SiLU-98          [-1, 480, 14, 14]               0\n",
            "           Conv2d-99             [-1, 20, 1, 1]           9,620\n",
            "            SiLU-100             [-1, 20, 1, 1]               0\n",
            "          Conv2d-101            [-1, 480, 1, 1]          10,080\n",
            "   SqueezeExcite-102          [-1, 480, 14, 14]               0\n",
            "          Conv2d-103           [-1, 80, 14, 14]          38,400\n",
            "     BatchNorm2d-104           [-1, 80, 14, 14]             160\n",
            "InvertedResidual-105           [-1, 80, 14, 14]               0\n",
            "          Conv2d-106          [-1, 480, 14, 14]          38,400\n",
            "     BatchNorm2d-107          [-1, 480, 14, 14]             960\n",
            "            SiLU-108          [-1, 480, 14, 14]               0\n",
            "          Conv2d-109          [-1, 480, 14, 14]          12,000\n",
            "     BatchNorm2d-110          [-1, 480, 14, 14]             960\n",
            "            SiLU-111          [-1, 480, 14, 14]               0\n",
            "          Conv2d-112             [-1, 20, 1, 1]           9,620\n",
            "            SiLU-113             [-1, 20, 1, 1]               0\n",
            "          Conv2d-114            [-1, 480, 1, 1]          10,080\n",
            "   SqueezeExcite-115          [-1, 480, 14, 14]               0\n",
            "          Conv2d-116          [-1, 112, 14, 14]          53,760\n",
            "     BatchNorm2d-117          [-1, 112, 14, 14]             224\n",
            "InvertedResidual-118          [-1, 112, 14, 14]               0\n",
            "          Conv2d-119          [-1, 672, 14, 14]          75,264\n",
            "     BatchNorm2d-120          [-1, 672, 14, 14]           1,344\n",
            "            SiLU-121          [-1, 672, 14, 14]               0\n",
            "          Conv2d-122          [-1, 672, 14, 14]          16,800\n",
            "     BatchNorm2d-123          [-1, 672, 14, 14]           1,344\n",
            "            SiLU-124          [-1, 672, 14, 14]               0\n",
            "          Conv2d-125             [-1, 28, 1, 1]          18,844\n",
            "            SiLU-126             [-1, 28, 1, 1]               0\n",
            "          Conv2d-127            [-1, 672, 1, 1]          19,488\n",
            "   SqueezeExcite-128          [-1, 672, 14, 14]               0\n",
            "          Conv2d-129          [-1, 112, 14, 14]          75,264\n",
            "     BatchNorm2d-130          [-1, 112, 14, 14]             224\n",
            "InvertedResidual-131          [-1, 112, 14, 14]               0\n",
            "          Conv2d-132          [-1, 672, 14, 14]          75,264\n",
            "     BatchNorm2d-133          [-1, 672, 14, 14]           1,344\n",
            "            SiLU-134          [-1, 672, 14, 14]               0\n",
            "          Conv2d-135          [-1, 672, 14, 14]          16,800\n",
            "     BatchNorm2d-136          [-1, 672, 14, 14]           1,344\n",
            "            SiLU-137          [-1, 672, 14, 14]               0\n",
            "          Conv2d-138             [-1, 28, 1, 1]          18,844\n",
            "            SiLU-139             [-1, 28, 1, 1]               0\n",
            "          Conv2d-140            [-1, 672, 1, 1]          19,488\n",
            "   SqueezeExcite-141          [-1, 672, 14, 14]               0\n",
            "          Conv2d-142          [-1, 112, 14, 14]          75,264\n",
            "     BatchNorm2d-143          [-1, 112, 14, 14]             224\n",
            "InvertedResidual-144          [-1, 112, 14, 14]               0\n",
            "          Conv2d-145          [-1, 672, 14, 14]          75,264\n",
            "     BatchNorm2d-146          [-1, 672, 14, 14]           1,344\n",
            "            SiLU-147          [-1, 672, 14, 14]               0\n",
            "          Conv2d-148            [-1, 672, 7, 7]          16,800\n",
            "     BatchNorm2d-149            [-1, 672, 7, 7]           1,344\n",
            "            SiLU-150            [-1, 672, 7, 7]               0\n",
            "          Conv2d-151             [-1, 28, 1, 1]          18,844\n",
            "            SiLU-152             [-1, 28, 1, 1]               0\n",
            "          Conv2d-153            [-1, 672, 1, 1]          19,488\n",
            "   SqueezeExcite-154            [-1, 672, 7, 7]               0\n",
            "          Conv2d-155            [-1, 192, 7, 7]         129,024\n",
            "     BatchNorm2d-156            [-1, 192, 7, 7]             384\n",
            "InvertedResidual-157            [-1, 192, 7, 7]               0\n",
            "          Conv2d-158           [-1, 1152, 7, 7]         221,184\n",
            "     BatchNorm2d-159           [-1, 1152, 7, 7]           2,304\n",
            "            SiLU-160           [-1, 1152, 7, 7]               0\n",
            "          Conv2d-161           [-1, 1152, 7, 7]          28,800\n",
            "     BatchNorm2d-162           [-1, 1152, 7, 7]           2,304\n",
            "            SiLU-163           [-1, 1152, 7, 7]               0\n",
            "          Conv2d-164             [-1, 48, 1, 1]          55,344\n",
            "            SiLU-165             [-1, 48, 1, 1]               0\n",
            "          Conv2d-166           [-1, 1152, 1, 1]          56,448\n",
            "   SqueezeExcite-167           [-1, 1152, 7, 7]               0\n",
            "          Conv2d-168            [-1, 192, 7, 7]         221,184\n",
            "     BatchNorm2d-169            [-1, 192, 7, 7]             384\n",
            "InvertedResidual-170            [-1, 192, 7, 7]               0\n",
            "          Conv2d-171           [-1, 1152, 7, 7]         221,184\n",
            "     BatchNorm2d-172           [-1, 1152, 7, 7]           2,304\n",
            "            SiLU-173           [-1, 1152, 7, 7]               0\n",
            "          Conv2d-174           [-1, 1152, 7, 7]          28,800\n",
            "     BatchNorm2d-175           [-1, 1152, 7, 7]           2,304\n",
            "            SiLU-176           [-1, 1152, 7, 7]               0\n",
            "          Conv2d-177             [-1, 48, 1, 1]          55,344\n",
            "            SiLU-178             [-1, 48, 1, 1]               0\n",
            "          Conv2d-179           [-1, 1152, 1, 1]          56,448\n",
            "   SqueezeExcite-180           [-1, 1152, 7, 7]               0\n",
            "          Conv2d-181            [-1, 192, 7, 7]         221,184\n",
            "     BatchNorm2d-182            [-1, 192, 7, 7]             384\n",
            "InvertedResidual-183            [-1, 192, 7, 7]               0\n",
            "          Conv2d-184           [-1, 1152, 7, 7]         221,184\n",
            "     BatchNorm2d-185           [-1, 1152, 7, 7]           2,304\n",
            "            SiLU-186           [-1, 1152, 7, 7]               0\n",
            "          Conv2d-187           [-1, 1152, 7, 7]          28,800\n",
            "     BatchNorm2d-188           [-1, 1152, 7, 7]           2,304\n",
            "            SiLU-189           [-1, 1152, 7, 7]               0\n",
            "          Conv2d-190             [-1, 48, 1, 1]          55,344\n",
            "            SiLU-191             [-1, 48, 1, 1]               0\n",
            "          Conv2d-192           [-1, 1152, 1, 1]          56,448\n",
            "   SqueezeExcite-193           [-1, 1152, 7, 7]               0\n",
            "          Conv2d-194            [-1, 192, 7, 7]         221,184\n",
            "     BatchNorm2d-195            [-1, 192, 7, 7]             384\n",
            "InvertedResidual-196            [-1, 192, 7, 7]               0\n",
            "          Conv2d-197           [-1, 1152, 7, 7]         221,184\n",
            "     BatchNorm2d-198           [-1, 1152, 7, 7]           2,304\n",
            "            SiLU-199           [-1, 1152, 7, 7]               0\n",
            "          Conv2d-200           [-1, 1152, 7, 7]          10,368\n",
            "     BatchNorm2d-201           [-1, 1152, 7, 7]           2,304\n",
            "            SiLU-202           [-1, 1152, 7, 7]               0\n",
            "          Conv2d-203             [-1, 48, 1, 1]          55,344\n",
            "            SiLU-204             [-1, 48, 1, 1]               0\n",
            "          Conv2d-205           [-1, 1152, 1, 1]          56,448\n",
            "   SqueezeExcite-206           [-1, 1152, 7, 7]               0\n",
            "          Conv2d-207            [-1, 320, 7, 7]         368,640\n",
            "     BatchNorm2d-208            [-1, 320, 7, 7]             640\n",
            "InvertedResidual-209            [-1, 320, 7, 7]               0\n",
            "          Conv2d-210           [-1, 1280, 7, 7]         409,600\n",
            "     BatchNorm2d-211           [-1, 1280, 7, 7]           2,560\n",
            "            SiLU-212           [-1, 1280, 7, 7]               0\n",
            "AdaptiveAvgPool2d-213           [-1, 1280, 1, 1]               0\n",
            "          Linear-214                    [-1, 3]           3,843\n",
            " GenEfficientNet-215                    [-1, 3]               0\n",
            "================================================================\n",
            "Total params: 4,011,391\n",
            "Trainable params: 4,011,391\n",
            "Non-trainable params: 0\n",
            "----------------------------------------------------------------\n",
            "Input size (MB): 0.57\n",
            "Forward/backward pass size (MB): 173.43\n",
            "Params size (MB): 15.30\n",
            "Estimated Total Size (MB): 189.30\n",
            "----------------------------------------------------------------\n",
            "None\n"
          ]
        }
      ]
    },
    {
      "cell_type": "code",
      "source": [
        "epochs = 100\n",
        "\n",
        "max_lr = 0.01\n",
        "grad_clip = 0.1\n",
        "weight_decay = 1e-4\n",
        "opt_func = torch.optim.Adam"
      ],
      "metadata": {
        "id": "i-1dyRcBlaBJ"
      },
      "execution_count": null,
      "outputs": []
    },
    {
      "cell_type": "code",
      "source": [
        "!pip install wandb"
      ],
      "metadata": {
        "colab": {
          "base_uri": "https://localhost:8080/"
        },
        "id": "T-PMnH7Plj0z",
        "outputId": "c6f8c5d3-7088-4d38-c2e4-102a01c75b78"
      },
      "execution_count": null,
      "outputs": [
        {
          "output_type": "stream",
          "name": "stdout",
          "text": [
            "Requirement already satisfied: wandb in /usr/local/lib/python3.10/dist-packages (0.16.3)\n",
            "Requirement already satisfied: Click!=8.0.0,>=7.1 in /usr/local/lib/python3.10/dist-packages (from wandb) (8.1.7)\n",
            "Requirement already satisfied: GitPython!=3.1.29,>=1.0.0 in /usr/local/lib/python3.10/dist-packages (from wandb) (3.1.41)\n",
            "Requirement already satisfied: requests<3,>=2.0.0 in /usr/local/lib/python3.10/dist-packages (from wandb) (2.31.0)\n",
            "Requirement already satisfied: psutil>=5.0.0 in /usr/local/lib/python3.10/dist-packages (from wandb) (5.9.5)\n",
            "Requirement already satisfied: sentry-sdk>=1.0.0 in /usr/local/lib/python3.10/dist-packages (from wandb) (1.40.3)\n",
            "Requirement already satisfied: docker-pycreds>=0.4.0 in /usr/local/lib/python3.10/dist-packages (from wandb) (0.4.0)\n",
            "Requirement already satisfied: PyYAML in /usr/local/lib/python3.10/dist-packages (from wandb) (6.0.1)\n",
            "Requirement already satisfied: setproctitle in /usr/local/lib/python3.10/dist-packages (from wandb) (1.3.3)\n",
            "Requirement already satisfied: setuptools in /usr/local/lib/python3.10/dist-packages (from wandb) (67.7.2)\n",
            "Requirement already satisfied: appdirs>=1.4.3 in /usr/local/lib/python3.10/dist-packages (from wandb) (1.4.4)\n",
            "Requirement already satisfied: protobuf!=4.21.0,<5,>=3.19.0 in /usr/local/lib/python3.10/dist-packages (from wandb) (3.20.3)\n",
            "Requirement already satisfied: six>=1.4.0 in /usr/local/lib/python3.10/dist-packages (from docker-pycreds>=0.4.0->wandb) (1.16.0)\n",
            "Requirement already satisfied: gitdb<5,>=4.0.1 in /usr/local/lib/python3.10/dist-packages (from GitPython!=3.1.29,>=1.0.0->wandb) (4.0.11)\n",
            "Requirement already satisfied: charset-normalizer<4,>=2 in /usr/local/lib/python3.10/dist-packages (from requests<3,>=2.0.0->wandb) (3.3.2)\n",
            "Requirement already satisfied: idna<4,>=2.5 in /usr/local/lib/python3.10/dist-packages (from requests<3,>=2.0.0->wandb) (3.6)\n",
            "Requirement already satisfied: urllib3<3,>=1.21.1 in /usr/local/lib/python3.10/dist-packages (from requests<3,>=2.0.0->wandb) (2.0.7)\n",
            "Requirement already satisfied: certifi>=2017.4.17 in /usr/local/lib/python3.10/dist-packages (from requests<3,>=2.0.0->wandb) (2024.2.2)\n",
            "Requirement already satisfied: smmap<6,>=3.0.1 in /usr/local/lib/python3.10/dist-packages (from gitdb<5,>=4.0.1->GitPython!=3.1.29,>=1.0.0->wandb) (5.0.1)\n"
          ]
        }
      ]
    },
    {
      "cell_type": "code",
      "source": [
        "import wandb\n",
        "\n",
        "name = f'efficientNet-{epochs}-epochs'\n",
        "wandb.init(project=\"plantvillage-aug-final\", name=name, config={\n",
        "    \"epochs\": epochs,\n",
        "    \"learning_rate\": max_lr,\n",
        "    \"grad_clip\": grad_clip,\n",
        "    \"weight_decay\": weight_decay,\n",
        "    \"opt_func\": opt_func.__name__,\n",
        "    \"batch_size\": batch_size,\n",
        "    \"dataset\": \"PlantVillage\",\n",
        "    \"architecture\": \"EfficientNet\"\n",
        "})\n"
      ],
      "metadata": {
        "colab": {
          "base_uri": "https://localhost:8080/",
          "height": 522,
          "referenced_widgets": [
            "d7e615eeabb047dfaeee3c26e0bd1bf3",
            "b0fb2a621c8845eea4efdeb7f78b6ca9",
            "a48de6741a3b42c8bc8480e762beab28",
            "d3901648430d43139a3fc6c31c6e16e7",
            "cb812d85808648b4bb5cc67df2d9231a",
            "ac9e863a865945a7af095b2fee93d278",
            "050391d952af41c7a774bd493ff1cfbb",
            "be3f4128eaad4a08a429e9f2eca9eb7a"
          ]
        },
        "id": "Ge7uwGggltzW",
        "outputId": "a8ffcc02-1b74-400c-e172-928400c6bf71"
      },
      "execution_count": null,
      "outputs": [
        {
          "output_type": "display_data",
          "data": {
            "text/plain": [
              "<IPython.core.display.HTML object>"
            ],
            "text/html": [
              "Finishing last run (ID:1c236mjx) before initializing another..."
            ]
          },
          "metadata": {}
        },
        {
          "output_type": "display_data",
          "data": {
            "text/plain": [
              "VBox(children=(Label(value='0.002 MB of 0.002 MB uploaded\\r'), FloatProgress(value=1.0, max=1.0)))"
            ],
            "application/vnd.jupyter.widget-view+json": {
              "version_major": 2,
              "version_minor": 0,
              "model_id": "d7e615eeabb047dfaeee3c26e0bd1bf3"
            }
          },
          "metadata": {}
        },
        {
          "output_type": "display_data",
          "data": {
            "text/plain": [
              "<IPython.core.display.HTML object>"
            ],
            "text/html": [
              "<style>\n",
              "    table.wandb td:nth-child(1) { padding: 0 10px; text-align: left ; width: auto;} td:nth-child(2) {text-align: left ; width: 100%}\n",
              "    .wandb-row { display: flex; flex-direction: row; flex-wrap: wrap; justify-content: flex-start; width: 100% }\n",
              "    .wandb-col { display: flex; flex-direction: column; flex-basis: 100%; flex: 1; padding: 10px; }\n",
              "    </style>\n",
              "<div class=\"wandb-row\"><div class=\"wandb-col\"><h3>Run history:</h3><br/><table class=\"wandb\"><tr><td>Epoch</td><td>▁▂▃▃▄▅▆▆▇█</td></tr><tr><td>Train Accuracy</td><td>▅▇█▇▅▂▆▄▇▇▅▁▅▆▄▇▇▅▇▆▇▇▆▇▇█▅█▇██▇▇█▇▇██▇█</td></tr><tr><td>Train Loss</td><td>▃▁▁▁▂█▃▃▂▂▂▄▂▂▃▂▁▂▁▂▁▂▂▂▂▁▂▁▁▁▁▁▁▁▂▁▁▁▁▁</td></tr><tr><td>Val Accuracy</td><td>█▆▄▁██████</td></tr><tr><td>Val F1</td><td>▇▄▃▁▇█████</td></tr><tr><td>Val Loss</td><td>▁▄▅█▁▁▁▁▁▁</td></tr><tr><td>Val Precision</td><td>█▅▂▁▇█████</td></tr></table><br/></div><div class=\"wandb-col\"><h3>Run summary:</h3><br/><table class=\"wandb\"><tr><td>Epoch</td><td>9</td></tr><tr><td>Train Accuracy</td><td>0.91667</td></tr><tr><td>Train Loss</td><td>0.10232</td></tr><tr><td>Val Accuracy</td><td>0.99792</td></tr><tr><td>Val F1</td><td>0.96614</td></tr><tr><td>Val Loss</td><td>0.00906</td></tr><tr><td>Val Precision</td><td>1.0</td></tr></table><br/></div></div>"
            ]
          },
          "metadata": {}
        },
        {
          "output_type": "display_data",
          "data": {
            "text/plain": [
              "<IPython.core.display.HTML object>"
            ],
            "text/html": [
              " View run <strong style=\"color:#cdcd00\">efficientNet-10-epochs</strong> at: <a href='https://wandb.ai/jsonccolu/plantvillage-aug-final/runs/1c236mjx' target=\"_blank\">https://wandb.ai/jsonccolu/plantvillage-aug-final/runs/1c236mjx</a><br/>Synced 5 W&B file(s), 0 media file(s), 0 artifact file(s) and 0 other file(s)"
            ]
          },
          "metadata": {}
        },
        {
          "output_type": "display_data",
          "data": {
            "text/plain": [
              "<IPython.core.display.HTML object>"
            ],
            "text/html": [
              "Find logs at: <code>./wandb/run-20240212_201637-1c236mjx/logs</code>"
            ]
          },
          "metadata": {}
        },
        {
          "output_type": "display_data",
          "data": {
            "text/plain": [
              "<IPython.core.display.HTML object>"
            ],
            "text/html": [
              "Successfully finished last run (ID:1c236mjx). Initializing new run:<br/>"
            ]
          },
          "metadata": {}
        },
        {
          "output_type": "display_data",
          "data": {
            "text/plain": [
              "<IPython.core.display.HTML object>"
            ],
            "text/html": [
              "Tracking run with wandb version 0.16.3"
            ]
          },
          "metadata": {}
        },
        {
          "output_type": "display_data",
          "data": {
            "text/plain": [
              "<IPython.core.display.HTML object>"
            ],
            "text/html": [
              "Run data is saved locally in <code>/content/drive/MyDrive/proyectos3/wandb/run-20240212_202250-1pzxa7af</code>"
            ]
          },
          "metadata": {}
        },
        {
          "output_type": "display_data",
          "data": {
            "text/plain": [
              "<IPython.core.display.HTML object>"
            ],
            "text/html": [
              "Syncing run <strong><a href='https://wandb.ai/jsonccolu/plantvillage-aug-final/runs/1pzxa7af' target=\"_blank\">efficientNet-100-epochs</a></strong> to <a href='https://wandb.ai/jsonccolu/plantvillage-aug-final' target=\"_blank\">Weights & Biases</a> (<a href='https://wandb.me/run' target=\"_blank\">docs</a>)<br/>"
            ]
          },
          "metadata": {}
        },
        {
          "output_type": "display_data",
          "data": {
            "text/plain": [
              "<IPython.core.display.HTML object>"
            ],
            "text/html": [
              " View project at <a href='https://wandb.ai/jsonccolu/plantvillage-aug-final' target=\"_blank\">https://wandb.ai/jsonccolu/plantvillage-aug-final</a>"
            ]
          },
          "metadata": {}
        },
        {
          "output_type": "display_data",
          "data": {
            "text/plain": [
              "<IPython.core.display.HTML object>"
            ],
            "text/html": [
              " View run at <a href='https://wandb.ai/jsonccolu/plantvillage-aug-final/runs/1pzxa7af' target=\"_blank\">https://wandb.ai/jsonccolu/plantvillage-aug-final/runs/1pzxa7af</a>"
            ]
          },
          "metadata": {}
        },
        {
          "output_type": "execute_result",
          "data": {
            "text/html": [
              "<button onClick=\"this.nextSibling.style.display='block';this.style.display='none';\">Display W&B run</button><iframe src='https://wandb.ai/jsonccolu/plantvillage-aug-final/runs/1pzxa7af?jupyter=true' style='border:none;width:100%;height:420px;display:none;'></iframe>"
            ],
            "text/plain": [
              "<wandb.sdk.wandb_run.Run at 0x79438dcadb70>"
            ]
          },
          "metadata": {},
          "execution_count": 87
        }
      ]
    },
    {
      "cell_type": "code",
      "source": [
        "# for training\n",
        "@torch.no_grad()\n",
        "def evaluate(model, val_loader):\n",
        "    \"\"\"Evaluates the model's performance on the validation set\"\"\"\n",
        "    model.eval()\n",
        "    outputs = [model.validation_step(batch) for batch in val_loader]\n",
        "    # return model.validation_epoch_end(outputs)\n",
        "    val_losses = [x[\"val_loss\"] for x in outputs]\n",
        "    epoch_loss = torch.stack(val_losses).mean()       # Combine loss\n",
        "    val_accuracies = [x[\"val_accuracy\"] for x in outputs]\n",
        "    epoch_accuracy = torch.stack(val_accuracies).mean()\n",
        "    val_precisions = [x[\"val_precision\"] for x in outputs]\n",
        "    epoch_precision = torch.tensor(sum(val_precisions)/len(val_precisions))\n",
        "    val_f1s = [x[\"val_f1\"] for x in outputs]\n",
        "    epoch_f1 = torch.tensor(sum(val_f1s)/len(val_f1s))\n",
        "    return {\"val_loss\": epoch_loss.item(), \"val_accuracy\": epoch_accuracy.item(), \"val_precision\": epoch_precision.item(), \"val_f1\": epoch_f1.item()} # Combine accuracies\n",
        "\n",
        "\n",
        "def get_lr(optimizer):\n",
        "    for param_group in optimizer.param_groups:\n",
        "        return param_group['lr']\n",
        "\n",
        "\n",
        "def fit_one_cycle(epochs, max_lr, model, train_loader, val_loader, weight_decay=0,\n",
        "                grad_clip=None, opt_func=torch.optim.SGD):\n",
        "    torch.cuda.empty_cache()\n",
        "    history = []\n",
        "\n",
        "    optimizer = opt_func(model.parameters(), max_lr, weight_decay=weight_decay)\n",
        "    # scheduler for one cycle learniing rate\n",
        "    sched = torch.optim.lr_scheduler.OneCycleLR(optimizer, max_lr, epochs=epochs, steps_per_epoch=len(train_loader))\n",
        "\n",
        "\n",
        "    for epoch in range(epochs):\n",
        "        # Training\n",
        "        model.train()\n",
        "        train_losses = []\n",
        "        lrs = []\n",
        "        for batch in train_loader:\n",
        "            loss = model.training_step(batch)\n",
        "            train_losses.append(loss)\n",
        "            loss.backward()\n",
        "            accuracy_train = model.training_accuracy(batch)\n",
        "\n",
        "            # gradient clipping\n",
        "            if grad_clip:\n",
        "                nn.utils.clip_grad_value_(model.parameters(), grad_clip)\n",
        "\n",
        "            optimizer.step()\n",
        "            optimizer.zero_grad()\n",
        "\n",
        "            # recording and updating learning rates\n",
        "            lrs.append(get_lr(optimizer))\n",
        "            sched.step()\n",
        "\n",
        "            # logging to wandb\n",
        "            wandb.log({\"Train Loss\": loss.item()})\n",
        "            wandb.log({\"Train Accuracy\": accuracy_train.item()})\n",
        "\n",
        "        # validation\n",
        "        result = evaluate(model, val_loader)\n",
        "        result['train_loss'] = torch.stack(train_losses).mean().item()\n",
        "        result['lrs'] = lrs\n",
        "        model.epoch_end(epoch, result)\n",
        "        history.append(result)\n",
        "\n",
        "        # logging to wandb\n",
        "        wandb.log({\n",
        "            \"Epoch\": epoch,\n",
        "            \"Val Loss\": result['val_loss'],\n",
        "            \"Val Accuracy\": result['val_accuracy'],\n",
        "            \"Val Precision\": result['val_precision'],\n",
        "            \"Val F1\": result['val_f1']\n",
        "        })\n",
        "\n",
        "    return history"
      ],
      "metadata": {
        "id": "eOGo0KUBl0Ch"
      },
      "execution_count": null,
      "outputs": []
    },
    {
      "cell_type": "code",
      "source": [
        "%%time\n",
        "history = fit_one_cycle(\n",
        "  epochs,\n",
        "  max_lr,\n",
        "  model,\n",
        "  train_loader,\n",
        "  val_loader,\n",
        "  grad_clip=grad_clip,\n",
        "  weight_decay=1e-4,\n",
        "  opt_func=opt_func\n",
        ")"
      ],
      "metadata": {
        "colab": {
          "base_uri": "https://localhost:8080/"
        },
        "id": "f1vVpYDgmjRR",
        "outputId": "8f946a9c-3441-490f-dca0-00cdf34280c8"
      },
      "execution_count": null,
      "outputs": [
        {
          "output_type": "stream",
          "name": "stdout",
          "text": [
            "Epoch [0], last_lr: 0.00043, train_loss: 0.2062, val_loss: 0.0126, val_acc: 0.9917\n",
            "Epoch [1], last_lr: 0.00050, train_loss: 0.0754, val_loss: 0.0599, val_acc: 0.9729\n",
            "Epoch [2], last_lr: 0.00063, train_loss: 0.0632, val_loss: 0.0014, val_acc: 1.0000\n",
            "Epoch [3], last_lr: 0.00081, train_loss: 0.0562, val_loss: 0.0157, val_acc: 0.9937\n",
            "Epoch [4], last_lr: 0.00104, train_loss: 0.1282, val_loss: 0.0443, val_acc: 0.9896\n",
            "Epoch [5], last_lr: 0.00131, train_loss: 0.0868, val_loss: 0.0126, val_acc: 0.9937\n",
            "Epoch [6], last_lr: 0.00163, train_loss: 0.0708, val_loss: 0.0129, val_acc: 0.9958\n",
            "Epoch [7], last_lr: 0.00198, train_loss: 0.0850, val_loss: 0.0346, val_acc: 0.9833\n",
            "Epoch [8], last_lr: 0.00237, train_loss: 0.1016, val_loss: 0.0394, val_acc: 0.9937\n",
            "Epoch [9], last_lr: 0.00280, train_loss: 0.1192, val_loss: 0.2645, val_acc: 0.9479\n",
            "Epoch [10], last_lr: 0.00324, train_loss: 0.1070, val_loss: 0.0310, val_acc: 0.9958\n",
            "Epoch [11], last_lr: 0.00371, train_loss: 0.1056, val_loss: 0.0231, val_acc: 0.9937\n",
            "Epoch [12], last_lr: 0.00420, train_loss: 0.1047, val_loss: 0.0964, val_acc: 0.9563\n",
            "Epoch [13], last_lr: 0.00469, train_loss: 0.1715, val_loss: 0.0489, val_acc: 0.9896\n",
            "Epoch [14], last_lr: 0.00520, train_loss: 0.1285, val_loss: 0.1089, val_acc: 0.9625\n",
            "Epoch [15], last_lr: 0.00570, train_loss: 0.1447, val_loss: 0.2960, val_acc: 0.8896\n",
            "Epoch [16], last_lr: 0.00620, train_loss: 0.1485, val_loss: 0.0179, val_acc: 0.9958\n",
            "Epoch [17], last_lr: 0.00668, train_loss: 0.1440, val_loss: 0.0364, val_acc: 0.9896\n",
            "Epoch [18], last_lr: 0.00715, train_loss: 0.1430, val_loss: 0.0259, val_acc: 0.9937\n",
            "Epoch [19], last_lr: 0.00760, train_loss: 0.1158, val_loss: 0.1318, val_acc: 0.9521\n",
            "Epoch [20], last_lr: 0.00802, train_loss: 0.1091, val_loss: 0.0392, val_acc: 0.9854\n",
            "Epoch [21], last_lr: 0.00841, train_loss: 0.1003, val_loss: 0.0394, val_acc: 0.9833\n",
            "Epoch [22], last_lr: 0.00877, train_loss: 0.1111, val_loss: 0.0658, val_acc: 0.9792\n",
            "Epoch [23], last_lr: 0.00908, train_loss: 0.1380, val_loss: 0.1094, val_acc: 0.9771\n",
            "Epoch [24], last_lr: 0.00936, train_loss: 0.1018, val_loss: 0.1135, val_acc: 0.9583\n",
            "Epoch [25], last_lr: 0.00958, train_loss: 0.0754, val_loss: 0.0274, val_acc: 0.9896\n",
            "Epoch [26], last_lr: 0.00976, train_loss: 0.1360, val_loss: 0.0500, val_acc: 0.9875\n",
            "Epoch [27], last_lr: 0.00990, train_loss: 0.1129, val_loss: 0.0843, val_acc: 0.9750\n",
            "Epoch [28], last_lr: 0.00997, train_loss: 0.0948, val_loss: 1.1416, val_acc: 0.7646\n",
            "Epoch [29], last_lr: 0.01000, train_loss: 0.1788, val_loss: 0.0212, val_acc: 0.9937\n",
            "Epoch [30], last_lr: 0.00999, train_loss: 0.1103, val_loss: 0.0233, val_acc: 0.9917\n",
            "Epoch [31], last_lr: 0.00998, train_loss: 0.0846, val_loss: 0.0522, val_acc: 0.9833\n",
            "Epoch [32], last_lr: 0.00995, train_loss: 0.0982, val_loss: 0.0172, val_acc: 0.9937\n",
            "Epoch [33], last_lr: 0.00992, train_loss: 0.1189, val_loss: 0.3379, val_acc: 0.8813\n",
            "Epoch [34], last_lr: 0.00987, train_loss: 0.1505, val_loss: 0.1110, val_acc: 0.9646\n",
            "Epoch [35], last_lr: 0.00982, train_loss: 0.0883, val_loss: 0.2186, val_acc: 0.9208\n",
            "Epoch [36], last_lr: 0.00976, train_loss: 0.0887, val_loss: 0.0186, val_acc: 0.9958\n",
            "Epoch [37], last_lr: 0.00968, train_loss: 0.0731, val_loss: 0.0757, val_acc: 0.9833\n",
            "Epoch [38], last_lr: 0.00960, train_loss: 0.0786, val_loss: 0.0244, val_acc: 0.9958\n",
            "Epoch [39], last_lr: 0.00950, train_loss: 0.1163, val_loss: 0.0366, val_acc: 0.9896\n",
            "Epoch [40], last_lr: 0.00940, train_loss: 0.0922, val_loss: 0.1201, val_acc: 0.9563\n",
            "Epoch [41], last_lr: 0.00929, train_loss: 0.0668, val_loss: 0.1096, val_acc: 0.9729\n",
            "Epoch [42], last_lr: 0.00917, train_loss: 0.0850, val_loss: 0.1054, val_acc: 0.9625\n",
            "Epoch [43], last_lr: 0.00905, train_loss: 0.0922, val_loss: 0.0402, val_acc: 0.9896\n",
            "Epoch [44], last_lr: 0.00891, train_loss: 0.0617, val_loss: 0.0476, val_acc: 0.9875\n",
            "Epoch [45], last_lr: 0.00877, train_loss: 0.0868, val_loss: 0.0142, val_acc: 0.9958\n",
            "Epoch [46], last_lr: 0.00861, train_loss: 0.0841, val_loss: 0.1425, val_acc: 0.9542\n",
            "Epoch [47], last_lr: 0.00846, train_loss: 0.0908, val_loss: 0.0317, val_acc: 0.9875\n",
            "Epoch [48], last_lr: 0.00829, train_loss: 0.0490, val_loss: 0.0138, val_acc: 0.9937\n",
            "Epoch [49], last_lr: 0.00812, train_loss: 0.0452, val_loss: 0.0279, val_acc: 0.9917\n",
            "Epoch [50], last_lr: 0.00794, train_loss: 0.0718, val_loss: 0.0568, val_acc: 0.9812\n",
            "Epoch [51], last_lr: 0.00775, train_loss: 0.0532, val_loss: 0.0520, val_acc: 0.9875\n",
            "Epoch [52], last_lr: 0.00756, train_loss: 0.0680, val_loss: 0.0341, val_acc: 0.9917\n",
            "Epoch [53], last_lr: 0.00737, train_loss: 0.0427, val_loss: 0.0397, val_acc: 0.9833\n",
            "Epoch [54], last_lr: 0.00717, train_loss: 0.0313, val_loss: 0.0599, val_acc: 0.9854\n",
            "Epoch [55], last_lr: 0.00697, train_loss: 0.0508, val_loss: 0.0448, val_acc: 0.9917\n",
            "Epoch [56], last_lr: 0.00676, train_loss: 0.0383, val_loss: 0.0078, val_acc: 1.0000\n",
            "Epoch [57], last_lr: 0.00655, train_loss: 0.0255, val_loss: 0.0038, val_acc: 1.0000\n",
            "Epoch [58], last_lr: 0.00633, train_loss: 0.0524, val_loss: 0.0203, val_acc: 0.9917\n",
            "Epoch [59], last_lr: 0.00611, train_loss: 0.0975, val_loss: 0.0240, val_acc: 0.9896\n",
            "Epoch [60], last_lr: 0.00589, train_loss: 0.0415, val_loss: 0.0671, val_acc: 0.9792\n",
            "Epoch [61], last_lr: 0.00567, train_loss: 0.0215, val_loss: 0.0107, val_acc: 0.9958\n",
            "Epoch [62], last_lr: 0.00545, train_loss: 0.0310, val_loss: 0.0444, val_acc: 0.9854\n",
            "Epoch [63], last_lr: 0.00522, train_loss: 0.0611, val_loss: 0.0181, val_acc: 0.9896\n",
            "Epoch [64], last_lr: 0.00500, train_loss: 0.0280, val_loss: 0.0104, val_acc: 0.9937\n",
            "Epoch [65], last_lr: 0.00478, train_loss: 0.0341, val_loss: 0.0223, val_acc: 0.9937\n",
            "Epoch [66], last_lr: 0.00455, train_loss: 0.0356, val_loss: 0.0253, val_acc: 0.9875\n",
            "Epoch [67], last_lr: 0.00433, train_loss: 0.0231, val_loss: 0.0184, val_acc: 0.9937\n",
            "Epoch [68], last_lr: 0.00411, train_loss: 0.0142, val_loss: 0.0147, val_acc: 0.9958\n",
            "Epoch [69], last_lr: 0.00389, train_loss: 0.0170, val_loss: 0.0263, val_acc: 0.9917\n",
            "Epoch [70], last_lr: 0.00367, train_loss: 0.0133, val_loss: 0.0109, val_acc: 0.9979\n",
            "Epoch [71], last_lr: 0.00345, train_loss: 0.0114, val_loss: 0.0092, val_acc: 0.9979\n",
            "Epoch [72], last_lr: 0.00324, train_loss: 0.0096, val_loss: 0.0023, val_acc: 1.0000\n",
            "Epoch [73], last_lr: 0.00303, train_loss: 0.0078, val_loss: 0.0078, val_acc: 0.9958\n",
            "Epoch [74], last_lr: 0.00283, train_loss: 0.0073, val_loss: 0.0298, val_acc: 0.9917\n",
            "Epoch [75], last_lr: 0.00263, train_loss: 0.0069, val_loss: 0.0168, val_acc: 0.9937\n",
            "Epoch [76], last_lr: 0.00244, train_loss: 0.0056, val_loss: 0.0151, val_acc: 0.9958\n",
            "Epoch [77], last_lr: 0.00225, train_loss: 0.0099, val_loss: 0.0199, val_acc: 0.9958\n",
            "Epoch [78], last_lr: 0.00206, train_loss: 0.0061, val_loss: 0.0047, val_acc: 0.9979\n",
            "Epoch [79], last_lr: 0.00188, train_loss: 0.0055, val_loss: 0.0023, val_acc: 1.0000\n",
            "Epoch [80], last_lr: 0.00171, train_loss: 0.0151, val_loss: 0.0211, val_acc: 0.9937\n",
            "Epoch [81], last_lr: 0.00154, train_loss: 0.0068, val_loss: 0.0216, val_acc: 0.9917\n",
            "Epoch [82], last_lr: 0.00139, train_loss: 0.0071, val_loss: 0.0079, val_acc: 0.9937\n",
            "Epoch [83], last_lr: 0.00123, train_loss: 0.0170, val_loss: 0.0115, val_acc: 0.9958\n",
            "Epoch [84], last_lr: 0.00109, train_loss: 0.0109, val_loss: 0.0096, val_acc: 0.9937\n",
            "Epoch [85], last_lr: 0.00095, train_loss: 0.0066, val_loss: 0.0163, val_acc: 0.9937\n",
            "Epoch [86], last_lr: 0.00083, train_loss: 0.0064, val_loss: 0.0128, val_acc: 0.9937\n",
            "Epoch [87], last_lr: 0.00071, train_loss: 0.0031, val_loss: 0.0090, val_acc: 0.9979\n",
            "Epoch [88], last_lr: 0.00060, train_loss: 0.0044, val_loss: 0.0111, val_acc: 0.9958\n",
            "Epoch [89], last_lr: 0.00050, train_loss: 0.0038, val_loss: 0.0141, val_acc: 0.9958\n",
            "Epoch [90], last_lr: 0.00040, train_loss: 0.0052, val_loss: 0.0122, val_acc: 0.9979\n",
            "Epoch [91], last_lr: 0.00032, train_loss: 0.0027, val_loss: 0.0107, val_acc: 0.9979\n",
            "Epoch [92], last_lr: 0.00024, train_loss: 0.0125, val_loss: 0.0119, val_acc: 0.9937\n",
            "Epoch [93], last_lr: 0.00018, train_loss: 0.0026, val_loss: 0.0091, val_acc: 0.9979\n",
            "Epoch [94], last_lr: 0.00013, train_loss: 0.0037, val_loss: 0.0120, val_acc: 0.9958\n",
            "Epoch [95], last_lr: 0.00008, train_loss: 0.0036, val_loss: 0.0105, val_acc: 0.9979\n",
            "Epoch [96], last_lr: 0.00005, train_loss: 0.0045, val_loss: 0.0141, val_acc: 0.9958\n",
            "Epoch [97], last_lr: 0.00002, train_loss: 0.0213, val_loss: 0.0113, val_acc: 0.9958\n",
            "Epoch [98], last_lr: 0.00001, train_loss: 0.0024, val_loss: 0.0177, val_acc: 0.9958\n",
            "Epoch [99], last_lr: 0.00000, train_loss: 0.0300, val_loss: 0.0112, val_acc: 0.9979\n",
            "CPU times: user 1h 45min 23s, sys: 1min 55s, total: 1h 47min 18s\n",
            "Wall time: 40min 45s\n"
          ]
        }
      ]
    },
    {
      "cell_type": "code",
      "source": [
        "torch.save(model.state_dict(), f'models/plant_disease_aug_efficientNet1_{epochs}.pth')"
      ],
      "metadata": {
        "id": "niojBySJmp-O"
      },
      "execution_count": null,
      "outputs": []
    },
    {
      "cell_type": "code",
      "execution_count": null,
      "metadata": {
        "id": "HpXLOTy-GCP9"
      },
      "outputs": [],
      "source": [
        "data_test_dir = './PlantDoc/test'"
      ]
    },
    {
      "cell_type": "code",
      "execution_count": null,
      "metadata": {
        "id": "aSckviw1GCP-"
      },
      "outputs": [],
      "source": [
        "from torchvision import transforms\n",
        "\n",
        "\n",
        "test_transform = transforms.Compose([\n",
        "    transforms.Resize((224, 224)),\n",
        "    transforms.ToTensor(),\n",
        "    transforms.Normalize(mean=[0.485, 0.456, 0.406], std=[0.229, 0.224, 0.225])\n",
        "])"
      ]
    },
    {
      "cell_type": "code",
      "execution_count": null,
      "metadata": {
        "id": "lbZgnCADGCP-"
      },
      "outputs": [],
      "source": [
        "from torchvision.datasets import ImageFolder\n",
        "\n",
        "dataset_test = ImageFolder(data_test_dir, test_transform)"
      ]
    },
    {
      "cell_type": "code",
      "execution_count": null,
      "metadata": {
        "id": "Hqjk6praGCP-",
        "colab": {
          "base_uri": "https://localhost:8080/"
        },
        "outputId": "41b64d65-dc20-420d-e613-6fc806317dd5"
      },
      "outputs": [
        {
          "output_type": "stream",
          "name": "stdout",
          "text": [
            "['Potato___Early_blight', 'Potato___Late_blight', 'Potato___healthy']\n"
          ]
        }
      ],
      "source": [
        "classes_test = dataset_test.classes\n",
        "print(classes_test)\n",
        "# ['Potato___Early_blight', 'Potato___Late_blight', 'Potato___healthy']"
      ]
    },
    {
      "cell_type": "code",
      "execution_count": null,
      "metadata": {
        "id": "LjWNGbZmGCP-"
      },
      "outputs": [],
      "source": [
        "from torch.utils.data import DataLoader\n",
        "\n",
        "data_loader_test = DataLoader(dataset_test)"
      ]
    },
    {
      "cell_type": "code",
      "source": [
        "device = get_default_device()\n",
        "model = EfficientNet(len(classes))\n",
        "model = to_device(model, device)\n",
        "model.load_state_dict(torch.load('./models/plant_disease_aug_efficientNet1_100.pth'))"
      ],
      "metadata": {
        "colab": {
          "base_uri": "https://localhost:8080/"
        },
        "id": "5uIRK7UtyxTG",
        "outputId": "9bd682c0-9b7d-465d-848b-656004d6c4ed"
      },
      "execution_count": null,
      "outputs": [
        {
          "output_type": "stream",
          "name": "stderr",
          "text": [
            "/usr/local/lib/python3.10/dist-packages/torch/hub.py:294: UserWarning: You are about to download and run code from an untrusted repository. In a future release, this won't be allowed. To add the repository to your trusted list, change the command to {calling_fn}(..., trust_repo=False) and a command prompt will appear asking for an explicit confirmation of trust, or load(..., trust_repo=True), which will assume that the prompt is to be answered with 'yes'. You can also use load(..., trust_repo='check') which will only prompt for confirmation if the repo is not already trusted. This will eventually be the default behaviour\n",
            "  warnings.warn(\n",
            "Downloading: \"https://github.com/rwightman/gen-efficientnet-pytorch/zipball/master\" to /root/.cache/torch/hub/master.zip\n",
            "Downloading: \"https://github.com/rwightman/pytorch-image-models/releases/download/v0.1-weights/efficientnet_b0_ra-3dd342df.pth\" to /root/.cache/torch/hub/checkpoints/efficientnet_b0_ra-3dd342df.pth\n"
          ]
        },
        {
          "output_type": "execute_result",
          "data": {
            "text/plain": [
              "<All keys matched successfully>"
            ]
          },
          "metadata": {},
          "execution_count": 20
        }
      ]
    },
    {
      "cell_type": "code",
      "execution_count": null,
      "metadata": {
        "id": "RZGjCR-fGCP_"
      },
      "outputs": [],
      "source": [
        "test_loader = DeviceDataLoader(data_loader_test, device)"
      ]
    },
    {
      "cell_type": "code",
      "execution_count": null,
      "metadata": {
        "colab": {
          "base_uri": "https://localhost:8080/"
        },
        "id": "7axiZKUOGCP_",
        "outputId": "e2ee7502-ce7b-4cab-e2ca-90e15f17b11c"
      },
      "outputs": [
        {
          "output_type": "execute_result",
          "data": {
            "text/plain": [
              "{'val_loss': 1.5635696649551392,\n",
              " 'val_accuracy': 0.7532467246055603,\n",
              " 'val_precision': 1.0,\n",
              " 'val_f1': 0.7532467532467533}"
            ]
          },
          "metadata": {},
          "execution_count": 33
        }
      ],
      "source": [
        "# get accuracy\n",
        "evaluate(model, test_loader)"
      ]
    },
    {
      "cell_type": "code",
      "source": [
        "# calcaulate confusion matrix\n",
        "from sklearn.metrics import confusion_matrix\n",
        "import seaborn as sns\n",
        "import matplotlib.pyplot as plt\n",
        "import numpy as np\n",
        "import pandas as pd\n",
        "\n",
        "def get_predictions(model, loader):\n",
        "    all_preds = []\n",
        "    all_targets = []\n",
        "    for batch in loader:\n",
        "        images, targets = batch\n",
        "\n",
        "        preds = model(images)\n",
        "        all_preds.extend(preds.argmax(dim=-1).cpu().numpy())\n",
        "        all_targets.extend(targets.cpu().numpy())\n",
        "\n",
        "    return all_preds, all_targets\n",
        "\n",
        "\n",
        "all_preds, all_targets = get_predictions(model, test_loader)\n",
        "\n",
        "class_names = ['Potato___Early_blight', 'Potato___Late_blight', 'Potato___healthy']\n",
        "\n",
        "cm = confusion_matrix(all_targets, all_preds, normalize='true')\n",
        "\n",
        "df_cm = pd.DataFrame(cm, index=class_names, columns=class_names)\n",
        "plt.figure(figsize=(10, 7))\n",
        "sns.heatmap(df_cm, annot=True, fmt='.2f')\n",
        "\n"
      ],
      "metadata": {
        "colab": {
          "base_uri": "https://localhost:8080/",
          "height": 617
        },
        "id": "79GWMODEMS5i",
        "outputId": "81aa9b4b-254b-494f-c6a1-346ca0d82024"
      },
      "execution_count": null,
      "outputs": [
        {
          "output_type": "execute_result",
          "data": {
            "text/plain": [
              "<Axes: >"
            ]
          },
          "metadata": {},
          "execution_count": 34
        },
        {
          "output_type": "display_data",
          "data": {
            "text/plain": [
              "<Figure size 1000x700 with 2 Axes>"
            ],
            "image/png": "[encoded data removed]"
          },
          "metadata": {}
        }
      ]
    },
    {
      "cell_type": "code",
      "source": [
        "# cm = confusion_matrix(all_targets, all_preds)\n",
        "\n",
        "# plt.figure(figsize=(10, 10))\n",
        "# sns.heatmap(cm, annot=True, fmt=\".0f\")\n",
        "# plt.show()\n",
        "\n",
        "cm = confusion_matrix(all_targets, all_preds)\n",
        "\n",
        "df_cm = pd.DataFrame(cm, index=class_names, columns=class_names)\n",
        "plt.figure(figsize=(10, 7))\n",
        "sns.heatmap(df_cm, annot=True, fmt='.0f')"
      ],
      "metadata": {
        "colab": {
          "base_uri": "https://localhost:8080/",
          "height": 617
        },
        "id": "3ZYjhfJduv-w",
        "outputId": "83e78b5f-1345-4577-9fac-cec7de1fcbde"
      },
      "execution_count": null,
      "outputs": [
        {
          "output_type": "execute_result",
          "data": {
            "text/plain": [
              "<Axes: >"
            ]
          },
          "metadata": {},
          "execution_count": 35
        },
        {
          "output_type": "display_data",
          "data": {
            "text/plain": [
              "<Figure size 1000x700 with 2 Axes>"
            ],
            "image/png": "[encoded data removed]"
          },
          "metadata": {}
        }
      ]
    }
  ],
  "metadata": {
    "kernelspec": {
      "display_name": "Python 3",
      "name": "python3"
    },
    "language_info": {
      "codemirror_mode": {
        "name": "ipython",
        "version": 3
      },
      "file_extension": ".py",
      "mimetype": "text/x-python",
      "name": "python",
      "nbconvert_exporter": "python",
      "pygments_lexer": "ipython3",
      "version": "3.11.6"
    },
    "colab": {
      "provenance": [],
      "machine_shape": "hm",
      "gpuType": "A100"
    },
    "accelerator": "GPU",
    "widgets": {
      "application/vnd.jupyter.widget-state+json": {
        "d7e615eeabb047dfaeee3c26e0bd1bf3": {
          "model_module": "@jupyter-widgets/controls",
          "model_name": "VBoxModel",
          "model_module_version": "1.5.0",
          "state": {
            "_dom_classes": [],
            "_model_module": "@jupyter-widgets/controls",
            "_model_module_version": "1.5.0",
            "_model_name": "VBoxModel",
            "_view_count": null,
            "_view_module": "@jupyter-widgets/controls",
            "_view_module_version": "1.5.0",
            "_view_name": "VBoxView",
            "box_style": "",
            "children": [
              "IPY_MODEL_b0fb2a621c8845eea4efdeb7f78b6ca9",
              "IPY_MODEL_a48de6741a3b42c8bc8480e762beab28"
            ],
            "layout": "IPY_MODEL_d3901648430d43139a3fc6c31c6e16e7"
          }
        },
        "b0fb2a621c8845eea4efdeb7f78b6ca9": {
          "model_module": "@jupyter-widgets/controls",
          "model_name": "LabelModel",
          "model_module_version": "1.5.0",
          "state": {
            "_dom_classes": [],
            "_model_module": "@jupyter-widgets/controls",
            "_model_module_version": "1.5.0",
            "_model_name": "LabelModel",
            "_view_count": null,
            "_view_module": "@jupyter-widgets/controls",
            "_view_module_version": "1.5.0",
            "_view_name": "LabelView",
            "description": "",
            "description_tooltip": null,
            "layout": "IPY_MODEL_cb812d85808648b4bb5cc67df2d9231a",
            "placeholder": "​",
            "style": "IPY_MODEL_ac9e863a865945a7af095b2fee93d278",
            "value": "0.028 MB of 0.028 MB uploaded\r"
          }
        },
        "a48de6741a3b42c8bc8480e762beab28": {
          "model_module": "@jupyter-widgets/controls",
          "model_name": "FloatProgressModel",
          "model_module_version": "1.5.0",
          "state": {
            "_dom_classes": [],
            "_model_module": "@jupyter-widgets/controls",
            "_model_module_version": "1.5.0",
            "_model_name": "FloatProgressModel",
            "_view_count": null,
            "_view_module": "@jupyter-widgets/controls",
            "_view_module_version": "1.5.0",
            "_view_name": "ProgressView",
            "bar_style": "",
            "description": "",
            "description_tooltip": null,
            "layout": "IPY_MODEL_050391d952af41c7a774bd493ff1cfbb",
            "max": 1,
            "min": 0,
            "orientation": "horizontal",
            "style": "IPY_MODEL_be3f4128eaad4a08a429e9f2eca9eb7a",
            "value": 1
          }
        },
        "d3901648430d43139a3fc6c31c6e16e7": {
          "model_module": "@jupyter-widgets/base",
          "model_name": "LayoutModel",
          "model_module_version": "1.2.0",
          "state": {
            "_model_module": "@jupyter-widgets/base",
            "_model_module_version": "1.2.0",
            "_model_name": "LayoutModel",
            "_view_count": null,
            "_view_module": "@jupyter-widgets/base",
            "_view_module_version": "1.2.0",
            "_view_name": "LayoutView",
            "align_content": null,
            "align_items": null,
            "align_self": null,
            "border": null,
            "bottom": null,
            "display": null,
            "flex": null,
            "flex_flow": null,
            "grid_area": null,
            "grid_auto_columns": null,
            "grid_auto_flow": null,
            "grid_auto_rows": null,
            "grid_column": null,
            "grid_gap": null,
            "grid_row": null,
            "grid_template_areas": null,
            "grid_template_columns": null,
            "grid_template_rows": null,
            "height": null,
            "justify_content": null,
            "justify_items": null,
            "left": null,
            "margin": null,
            "max_height": null,
            "max_width": null,
            "min_height": null,
            "min_width": null,
            "object_fit": null,
            "object_position": null,
            "order": null,
            "overflow": null,
            "overflow_x": null,
            "overflow_y": null,
            "padding": null,
            "right": null,
            "top": null,
            "visibility": null,
            "width": null
          }
        },
        "cb812d85808648b4bb5cc67df2d9231a": {
          "model_module": "@jupyter-widgets/base",
          "model_name": "LayoutModel",
          "model_module_version": "1.2.0",
          "state": {
            "_model_module": "@jupyter-widgets/base",
            "_model_module_version": "1.2.0",
            "_model_name": "LayoutModel",
            "_view_count": null,
            "_view_module": "@jupyter-widgets/base",
            "_view_module_version": "1.2.0",
            "_view_name": "LayoutView",
            "align_content": null,
            "align_items": null,
            "align_self": null,
            "border": null,
            "bottom": null,
            "display": null,
            "flex": null,
            "flex_flow": null,
            "grid_area": null,
            "grid_auto_columns": null,
            "grid_auto_flow": null,
            "grid_auto_rows": null,
            "grid_column": null,
            "grid_gap": null,
            "grid_row": null,
            "grid_template_areas": null,
            "grid_template_columns": null,
            "grid_template_rows": null,
            "height": null,
            "justify_content": null,
            "justify_items": null,
            "left": null,
            "margin": null,
            "max_height": null,
            "max_width": null,
            "min_height": null,
            "min_width": null,
            "object_fit": null,
            "object_position": null,
            "order": null,
            "overflow": null,
            "overflow_x": null,
            "overflow_y": null,
            "padding": null,
            "right": null,
            "top": null,
            "visibility": null,
            "width": null
          }
        },
        "ac9e863a865945a7af095b2fee93d278": {
          "model_module": "@jupyter-widgets/controls",
          "model_name": "DescriptionStyleModel",
          "model_module_version": "1.5.0",
          "state": {
            "_model_module": "@jupyter-widgets/controls",
            "_model_module_version": "1.5.0",
            "_model_name": "DescriptionStyleModel",
            "_view_count": null,
            "_view_module": "@jupyter-widgets/base",
            "_view_module_version": "1.2.0",
            "_view_name": "StyleView",
            "description_width": ""
          }
        },
        "050391d952af41c7a774bd493ff1cfbb": {
          "model_module": "@jupyter-widgets/base",
          "model_name": "LayoutModel",
          "model_module_version": "1.2.0",
          "state": {
            "_model_module": "@jupyter-widgets/base",
            "_model_module_version": "1.2.0",
            "_model_name": "LayoutModel",
            "_view_count": null,
            "_view_module": "@jupyter-widgets/base",
            "_view_module_version": "1.2.0",
            "_view_name": "LayoutView",
            "align_content": null,
            "align_items": null,
            "align_self": null,
            "border": null,
            "bottom": null,
            "display": null,
            "flex": null,
            "flex_flow": null,
            "grid_area": null,
            "grid_auto_columns": null,
            "grid_auto_flow": null,
            "grid_auto_rows": null,
            "grid_column": null,
            "grid_gap": null,
            "grid_row": null,
            "grid_template_areas": null,
            "grid_template_columns": null,
            "grid_template_rows": null,
            "height": null,
            "justify_content": null,
            "justify_items": null,
            "left": null,
            "margin": null,
            "max_height": null,
            "max_width": null,
            "min_height": null,
            "min_width": null,
            "object_fit": null,
            "object_position": null,
            "order": null,
            "overflow": null,
            "overflow_x": null,
            "overflow_y": null,
            "padding": null,
            "right": null,
            "top": null,
            "visibility": null,
            "width": null
          }
        },
        "be3f4128eaad4a08a429e9f2eca9eb7a": {
          "model_module": "@jupyter-widgets/controls",
          "model_name": "ProgressStyleModel",
          "model_module_version": "1.5.0",
          "state": {
            "_model_module": "@jupyter-widgets/controls",
            "_model_module_version": "1.5.0",
            "_model_name": "ProgressStyleModel",
            "_view_count": null,
            "_view_module": "@jupyter-widgets/base",
            "_view_module_version": "1.2.0",
            "_view_name": "StyleView",
            "bar_color": null,
            "description_width": ""
          }
        }
      }
    }
  },
  "nbformat": 4,
  "nbformat_minor": 0
}